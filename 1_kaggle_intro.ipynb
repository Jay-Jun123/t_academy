{
 "cells": [
  {
   "cell_type": "markdown",
   "source": [
    "# 1. [캐글 X 데이타분석탬프1] Kaggle 대회 & EDA\r\n",
    "\r\n",
    "## Index\r\n",
    "### 1) Hello Kaggler (캐글 및 대회 이해)\r\n",
    "### 2) 대회 소개 (머신러닝 프로세스 이해 & 캐글에서 공부하기)\r\n",
    "### 3) Kaggle로 공부하는 방법 (EDA + Baseline)"
   ],
   "metadata": {}
  },
  {
   "cell_type": "markdown",
   "source": [
    "## 1) 캐글 및 대회 이해\r\n",
    "\r\n",
    "    a) Kaggle 설명\r\n",
    "    b) Kaggler의 목표\r\n",
    "    c) Kaggle이 도움이 될까?\r\n",
    "    d) 데이터 사이언스\r\n",
    "    e) Competition\r\n",
    "    f) Notebook\r\n",
    "    g) Discussion\r\n",
    "    h) Dataset\r\n",
    "    i) Courses"
   ],
   "metadata": {}
  },
  {
   "cell_type": "markdown",
   "source": [
    "#### a) Kaggle 설명\r\n",
    "- Competition : 3개월 정도의 기간을 두고 Random하게 대회가 개설\r\n",
    "- Dataset : 모든 사용자가 만들 수 있음, 원하는 연습 및 연구를 진행 가능\r\n",
    "- Notebook : 대회 관련 인사이트, 데이터셋 분석과 인사이트, 튜토리얼 작성\r\n",
    "- Discussion : 코드가 아닌 글로 인사이트 공유, 대회/데이터셋에 부족한 부분 문의, 솔루션 공유, 팀원 모집 등"
   ],
   "metadata": {}
  },
  {
   "cell_type": "markdown",
   "source": [
    "#### b) Kaggler의 목표\r\n",
    "\r\n",
    "재미, 성취감, 공부, 상금, 취업 등 복합적인 목표\r\n",
    "\r\n",
    "\r\n",
    "- 성취감 : 메달 & 티어 \r\n",
    "(Competition: 대회 순위, Dataset,Notebook,Discussion: 좋아요 수)\r\n"
   ],
   "metadata": {}
  },
  {
   "cell_type": "markdown",
   "source": [
    "#### c) Kaggle이 도움이 될까?\r\n",
    "- Q 하기 전에 하는 질문들\r\n",
    "    - 현업에는 저런 데이터가 없다.\r\n",
    "    - 현업에서 저런 방식으로 모델링하면 안된다\r\n",
    "    - 취업에 도움이 되나?\r\n",
    "    - 그냥 문제 푸는 것 아닌가\r\n",
    "- A 얻고 싶은 것, 필요한 것을 얻자\r\n",
    "    - 다양한 도메인 관련 지식\r\n",
    "    - 정리된 데이터(모델링 초점)\r\n",
    "    - 고전적인 방법부터 최신 논문까지 활용\r\n",
    "    - 우승 솔루션을 통한 프로세스 공부\r\n",
    "    - 무료 GPU와 TPU\r\n",
    "    - 연구/현업으로 연장\r\n",
    "    - Grandmaster되면 취업 걱정X"
   ],
   "metadata": {}
  },
  {
   "cell_type": "markdown",
   "source": [
    "#### d) 데이터 사이언스\r\n",
    "\r\n",
    "인간이 행동하기 전까지 과정\r\n",
    "- 정보수집 <-> 정보구조화 <-> 판단 <-> 행동 (정보구조화 <-> 행동)\r\n",
    "    - 정보수집 & 정보구조화 : 데이터 수집(log, sensor), 데이터 구조화(SQL,BigQuery), 데이터 전송(Haddop,Spark)\r\n",
    "    - 정보를 통한 판단 : 분석과 판단(EDA & Visual, 경향성과 특징, 분류 & 회귀), 데이터 종류(정형데이터, 시계열, 이미지, 음성과 신호, 텍스트), 판단 근거/공정성/신뢰성 등(Interpretable/Explainable AI), 훈련/판단의 환경과 방법(측정, 모델링 & 최신 모델 적용, 기존 훈련 사용, 앙상블, GPU/TPU, 경량화와 On-Device)\r\n",
    "    - 행동, 그 외 Task : 강화학습(행동 및 정책, 보상과 환경), Tasks(Image(Object Detection, Image Classification, OCR, Pose&Depth Estimation, Super Resolution & Denoising, Inpainting), Audio(TTS & ASR, Speaker recognition & event detection, Music Generation, Audio/Genre Classificaion, Detection), NLP(Translation, QA, Language Model, Sentiment Analysis, Text Generation, Summarization, Text Classification) 등)"
   ],
   "metadata": {}
  },
  {
   "cell_type": "markdown",
   "source": [
    "#### e) Competition\r\n",
    "- Overview\r\n",
    "    - Your Competitions(진행중/끝남/찜/개최)\r\n",
    "    - All Competition(진행중/끝남/비공식)\r\n",
    "    - 상금(총합)\r\n",
    "    - Kudos(명예) : 소소한 아이템\r\n",
    "    - Knowledge : 지식\r\n",
    "    - Prize : TPU stars 대회 같은 것(TPU 용량을 늘려줌)\r\n",
    "- 대회 타입\r\n",
    "    - Featured : 스코어 대회 (가장 많이 접근)\r\n",
    "    - Analytics : 분석 대회\r\n",
    "    - Research : 연구 대회 (Featured와 비슷)\r\n",
    "    - Getting Started : 튜토리얼\r\n",
    "    - Playground : 재미용 대회\r\n",
    "- 대회 제출 방식 (참여 가능한 정도의 데이터인가 확인)\r\n",
    "    - Simple Competition : 결과 파일만 제출\r\n",
    "    - Code Competition : 코드로 제출하는 대회\r\n",
    "- 대회 세부 정보 확인과 참여\r\n",
    "    - 어떤 주제인지, Description 확인\r\n",
    "    - Data의 종류와 분량 확인(EDA)\r\n",
    "    - Evaluation 확인 + 리더보드 대략 확인\r\n",
    "    - 기존에 논의된 Discussion 확인\r\n",
    "    - Upvote 많은 Notebook 살펴보기\r\n",
    "- 스코어 보드\r\n",
    "    - Public : 대회 중간 score\r\n",
    "    - Private : 대회 최종 score\r\n",
    "- 메달 & 티어"
   ],
   "metadata": {}
  },
  {
   "cell_type": "markdown",
   "source": [
    "#### f) Notebook -> Code로 변경\r\n",
    "- 주피터 노트북을 사용하여 정보를 공유하는 시스템\r\n",
    "- 볼 수 있는 곳\r\n",
    "    - 대회에 따른 노트북\r\n",
    "    - 데이터셋에 다른 노트북\r\n",
    "    - 노트북 전체\r\n",
    "- 어떤 노트북을 봐야할까?\r\n",
    "    - 내가 지금 이 대회에서 어떤 단계에 있는가가 중요(입력, EDA, 전처리, 모델링, 결과제출)\r\n",
    "    - Upvote 수와 티어/프로필 정보확인 : 좋아요 수, 티어가 높은 것\r\n",
    "    - 제목과 태그, 스코어 : 원하는 주제가 맞는지, 스코어가 높은지\r\n",
    "    - 정렬기준\r\n",
    "    - 언어 / 댓글 수\r\n",
    "- 메달 & 티어 : 전문가와 대회 참가하는 사람들이 원하는 것을 작성하고 있는가에 따라 다름"
   ],
   "metadata": {}
  },
  {
   "cell_type": "markdown",
   "source": [
    "#### g) Discussion\r\n",
    "- 댓글 + 의견\r\n",
    "- 무엇을 논하면 좋을까\r\n",
    "    - 대회/데이터셋에서 설명이 부족한 부분\r\n",
    "    - 대회에서 개선되면 좋을 부분\r\n",
    "    - 대회에 적용하면 좋을 라이브러리\r\n",
    "    - 대회 관련 논문\r\n",
    "    - 대회가 끝나고 솔루션 소개\r\n",
    "- 메달 & 티어 : 유일하게 down note가 있음"
   ],
   "metadata": {}
  },
  {
   "cell_type": "markdown",
   "source": [
    "#### h) Dataset\r\n",
    "- 메달 & 티어 : 최근에 생성되어 매우 적음(2020.11월 기준)"
   ],
   "metadata": {}
  },
  {
   "cell_type": "markdown",
   "source": [
    "#### i) Courses\r\n",
    "- 튜토리얼이 괜찮음"
   ],
   "metadata": {}
  },
  {
   "cell_type": "markdown",
   "source": [
    "## 2. 머신러닝 프로세스 이해 & 캐글에서 공부하기\r\n",
    "    a) 머신러닝의 pipeline\r\n",
    "    b) Q & A"
   ],
   "metadata": {}
  },
  {
   "cell_type": "markdown",
   "source": [
    "#### a) 머신러닝의 Pipeline\r\n",
    "- 입력 -> EDA(인사이트 찾기) -> 전처리(모델에 적합하게 수정, Feature Engineer/Selection, 도메인 지식 활용) -> 모델 -> 결과(일반화된 모델을 위한 고민, 인사이트가 없으면 EDA로, Hyperparameter 개선, 여러 모델 시도, 모델 합치기가 필요하면 모델로)\r\n",
    "- 상위 티어는 100 ~ 500회까지 제출\r\n",
    "- 입력\r\n",
    "    - csv파일로 제공된 데이터를 Pandas로 불러옴\r\n",
    "    - Large Datasets : Dask, Datatable(많이 쓰임), Rapids(cudf)\r\n",
    "    - 다양한 파일 : Spicy(과학 계산), Librosa(음성처리), pillow, skimage, imageio(이미지)\r\n",
    "- EDA\r\n",
    "    - Pandas로 분석\r\n",
    "    - Visualization : Matplotlib(커스텀), Seaborn(쉬움, R), Plotly(다양한 기능 js로 export) 등\r\n",
    "    - 무엇을 볼 것인가 : 어떤 문제를 해결하려고 하는가, 어떤 종류의 데이터이고 어떻게 처리할까, 누락값은 무엇이고 어떻게 처리할까, 특이값은 어디에 있으며 어떻게 처리할까, 데이터를 최대한 활용하기 위해 어떻게 새로운 피처를 만들까\r\n",
    "    - 데이터 파악(모델에 넣을 수 있는지) : 수치형(이산, 연속), 범주형(명목, 순서)\r\n",
    "    - ML의 기본은 통계(치우친 정도 파악, Nomalization 지키는 법 등)\r\n",
    "    - 시각화하는 이유 : 숫자보다 빠르게 이해 가능\r\n",
    "    - 시각화 종류 : Comparison, Relationship, Composition, Distribution\r\n",
    "- 전처리\r\n",
    "    - Feature Engineering : Feature를 어떻게 새롭게 만들고 바꿀 것인가\r\n",
    "    - Feature Selection : Feature를 어떻게 선택할 것인가\r\n",
    "    - 도메인지식 + 모델의 특성에 맞게\r\n",
    "- 모델\r\n",
    "    - ML모델 : Decision Tree, Logistic Regression 등\r\n",
    "    - Scikit-Learn 활용(Pie carrot??)\r\n",
    "    - XGBoost, LGBBM, Catboost 등(cuml로 GPU사용)\r\n",
    "    - 스태킹, 앙상블 등\r\n",
    "- 결과\r\n",
    "    - Score 이해 : 왜 f1-score를 사용하는가?, accuracy의 문제(데이터의 분포에 따라 의미가 없어질 때가 있음)\r\n",
    "    - Overfitting과의 싸움 : Validation, 제출 파일 선택\r\n",
    "    - Hyperparameter 바꿔가며 실험하기"
   ],
   "metadata": {}
  },
  {
   "cell_type": "markdown",
   "source": [
    "#### b) Q & A\r\n",
    "- 제출방법 : 결과 파일에 값을 입력후 제출\r\n",
    "- 채점방법 : 34%만 가지고 f1-score로 중간채점, 마지막에 66%를 가지고 f1-score 최종채점\r\n",
    "- public score와 검증 score를 비교하여 비슷한지 확인(public>검증이면 overfitting)\r\n",
    "    - 데이터의 편향성 고려\r\n",
    "- 수학의 필요성 : 다다익선, 필요할 때!\r\n",
    "- Cording vs 수학 : Cording을 우선(논문과 책)\r\n",
    "- 머신러닝 적용 3요소 : 개념적 이해, 프로그래밍 스킬, 수학 + 도메인 지식\r\n",
    "    - 개념적 이해 : 모델이 어떤 아이디어를 가졌는가, 기존 모델의 어떤점을 개선했나, 모델의 장단점, 무엇을 계산하고 있는걸까\r\n",
    "    - 프로그래밍 스킬 : 라이브러리 사용법, 모델 구현법, 구현된 모델 커스텀 방법, 시간과 컴퓨팅 코스트를 줄이는 법, 재사용성과 가독성을 높이는 법\r\n",
    "    - 수학 + 도메인 지식 : 모델 내부의 과정, 데이터를 어떻게 살필 수 있을까, 데이터에 따른 전처리 방법, 노이즈 확인, 가정을 검증하는 방법\r\n",
    "- Back to the Beginning\r\n",
    "    - 전문가 시스템 : 모든걸 if문으로 실행\r\n",
    "    - Decision Tree\r\n",
    "    - Linear Classification & Linear Regression\r\n",
    "    - K-Nearest Neighbors Classification\r\n",
    "    - Logistic Regression & Perceptron\r\n",
    "    - Ensemble\r\n",
    "    - Random Forest, XGBoost, LGBM etc\r\n",
    "    - Scikit-Learn에 다 구현이 되어있음"
   ],
   "metadata": {}
  },
  {
   "cell_type": "markdown",
   "source": [
    "### 3. EDA + Baseline\r\n",
    "    a) 실습\r\n",
    "    b) 제출"
   ],
   "metadata": {}
  },
  {
   "cell_type": "markdown",
   "source": [
    "#### a) 실습\r\n",
    "- 대회명 : [T-Academy X KaKr] 성인 인구조사 소득 예측 대회\r\n",
    "- Code -> New Notebook -> Settings에서 언어 선택가능(Python, R) -> Note book 제목 정하기 -> code 작성\r\n",
    "    - Shift + Enter 누르면 실행"
   ],
   "metadata": {}
  },
  {
   "cell_type": "markdown",
   "source": [
    "------------------------------------------------------------------------------------\r\n",
    "탐색적 데이터 분석이란?\r\n",
    "탐색적 데이터 분석(Exploratory Data Analysis) 는 모델링에 앞서 데이터를 살피는 모든 과정을 의미합니다.\r\n",
    "\r\n",
    "대회를 시작하고, 대회가 끝날 때까지 계속 이뤄져야 하는 과정이기도 합니다.\r\n",
    "\r\n",
    "우선 필요한 최소한의 라이브러리들만 불러서 데이터를 살펴보도록 하겠습니다.\r\n",
    "\r\n",
    "이 노트북은 예시이기에 이런 식으로 고민을 하고, 이런 생각들을 해야겠다. 등의 포인트로 읽어주시면 됩니다.\r\n",
    "더 다양하고 깔끔한 EDA를 기대하겠습니다. :)\r\n",
    "추후 세미나에 pandas, numpy, matplotlib, seaborn 노트북을 공유할 예정이니 기대해주세요 :)"
   ],
   "metadata": {}
  },
  {
   "cell_type": "code",
   "execution_count": null,
   "source": [
    "# 기본 제공 코드\r\n",
    "import numpy as np # linear algebra\r\n",
    "import pandas as pd # data processing, CSV file I/O (e.g. pd.read_csv)\r\n",
    "\r\n",
    "import os\r\n",
    "for dirname, _, filenames in os.walk('/kaggle/input'):\r\n",
    "    for filename in filenames:\r\n",
    "        print(os.path.join(dirname, filename))"
   ],
   "outputs": [],
   "metadata": {}
  },
  {
   "cell_type": "code",
   "execution_count": null,
   "source": [
    "# 시각화\r\n",
    "import matplotlib as mpl\r\n",
    "import matplotlib.pyplot as plt\r\n",
    "import seaborn as sns\r\n",
    "\r\n",
    "# library 버전 확인\r\n",
    "print(sns.__version__)\r\n",
    "# seaborn library 0.11.1 version install code : !pip install seaborn == 0.11.1\r\n",
    "# seaborn library upgrade code : !pip install --upgrade seaborn"
   ],
   "outputs": [],
   "metadata": {}
  },
  {
   "cell_type": "code",
   "execution_count": null,
   "source": [
    "# data 불러오기\r\n",
    "train = pd.read_csv('/kaggle/input/kakr-4th-competition/train.csv')"
   ],
   "outputs": [],
   "metadata": {}
  },
  {
   "cell_type": "markdown",
   "source": [
    "Pandas의 메서드로 보는 간단한 탐색\r\n",
    "데이터를 불러온 후에는 기본적으로 어떤 형태의 데이터가 있는지 살펴볼 수 있으며 다음 메서드를 사용할 수 있습니다.\r\n",
    "\r\n",
    ".head() : 상위 5개, 괄호 안에 숫자로 개수 변경 가능\r\n",
    ".tail() : 하위 5개, 괄호 안에 숫자로 개수 변경 가능\r\n",
    ".sample() : 랜덤 5개, 괄호 안에 숫자로 개수 변경 가능"
   ],
   "metadata": {}
  },
  {
   "cell_type": "code",
   "execution_count": null,
   "source": [
    "train.head() # or tail()"
   ],
   "outputs": [],
   "metadata": {}
  },
  {
   "cell_type": "code",
   "execution_count": null,
   "source": [
    "print(train.columns)"
   ],
   "outputs": [],
   "metadata": {}
  },
  {
   "cell_type": "markdown",
   "source": [
    "데이터의 각 feature는 다음과 같은 의미를 가지고 있습니다. (data description에서 제공)\r\n",
    "\r\n",
    "- age : 나이\r\n",
    "- workclass : 고용 형태\r\n",
    "- fnlwgt : 사람 대표성을 나타내는 가중치 (final weight의 약자)\r\n",
    "- education : 교육 수준\r\n",
    "- education_num : 교육 수준 수치\r\n",
    "- marital_status: 결혼 상태\r\n",
    "- occupation : 업종\r\n",
    "- relationship : 가족 관계\r\n",
    "- race : 인종\r\n",
    "- sex : 성별\r\n",
    "- capital_gain : 양도 소득\r\n",
    "- capital_loss : 양도 손실\r\n",
    "- hours_per_week : 주당 근무 시간\r\n",
    "- native_country : 국적\r\n",
    "- income : 수익 (예측해야 하는 값)\r\n",
    "\r\n",
    "\r\n",
    "현재 여러 가지 feature가 있는 것을 확인할 수 있으며, 각 feature에 대한 통합적인 정보는 2가지로 살펴볼 수 있습니다.\r\n",
    "\r\n",
    "- .info()\r\n",
    "- .describe()"
   ],
   "metadata": {}
  },
  {
   "cell_type": "code",
   "execution_count": null,
   "source": [
    "train.info() #check null, dtype"
   ],
   "outputs": [],
   "metadata": {}
  },
  {
   "cell_type": "code",
   "execution_count": null,
   "source": [
    "# missing value 시각화\r\n",
    "import missingno as msno\r\n",
    "msno.matrix(train)"
   ],
   "outputs": [],
   "metadata": {}
  },
  {
   "cell_type": "markdown",
   "source": [
    "columns = 'id', 'age', 'workclass', 'fnlwgt', 'education', 'education_num',\r\n",
    "       'marital_status', 'occupation', 'relationship', 'race', 'sex',\r\n",
    "       'capital_gain', 'capital_loss', 'hours_per_week', 'native_country',\r\n",
    "       'income'"
   ],
   "metadata": {}
  },
  {
   "cell_type": "markdown",
   "source": [
    "데이터의 분포를 살피는 시각화\r\n",
    "데이터의 분포는 다음과 같이 살필 수 있습니다. 대표적인 몇 가지만 살펴보도록 하겠습니다.\r\n",
    "\r\n",
    "- 범주형 : bar\r\n",
    "- 수치형\r\n",
    "- 이산형 : bar\r\n",
    "- 연속형 : kdeplot, histogram\r\n",
    "- 범주형 + 수치형 : boxplot, violinplot, etc\r\n",
    "- 수치형 + 수치형 : scatter\r\n",
    "이 외에도 다양한 방법이 존재하니 찾아보시는 것을 추천합니다."
   ],
   "metadata": {}
  },
  {
   "cell_type": "code",
   "execution_count": null,
   "source": [
    "# 범주형 unique 수 구하기\r\n",
    "for col in train_data.columns:\r\n",
    "    if train_data[col].dtype == 'object':\r\n",
    "        categories = train_data[col].unique()\r\n",
    "        print(f'[{col}] ({len(categories)})')"
   ],
   "outputs": [],
   "metadata": {}
  },
  {
   "cell_type": "code",
   "execution_count": null,
   "source": [
    "# 빈도표 확인\r\n",
    "train['workclass'].value_counts()"
   ],
   "outputs": [],
   "metadata": {}
  },
  {
   "cell_type": "code",
   "execution_count": null,
   "source": [
    "# 빈도표 시각화\r\n",
    "fig, ax = plt.subplots(1, 1, figsize=(12,5)) # plot1개, 12X5 inch로 생성\r\n",
    "sns.countplot(data=train, x='workclass', ax=ax, hue='sex') # train의 workclass 그래프를 ax공간에 sex 색상별로 삽입\r\n",
    "plt.show() # 그래프 출력"
   ],
   "outputs": [],
   "metadata": {}
  },
  {
   "cell_type": "code",
   "execution_count": null,
   "source": [
    "# 기술통계량 출력\r\n",
    "train.describe()"
   ],
   "outputs": [],
   "metadata": {}
  },
  {
   "cell_type": "code",
   "execution_count": null,
   "source": [
    "# 히스토그램 그리기\r\n",
    "fig, ax = plt.subplots(1, 1, figsize=(12,5))\r\n",
    "ax.hist(train['age'], width=5, edgecolor='black') # 막대그래프 너비 5로 테두리 검정색\r\n",
    "ax.set_title(\"Age distribution\", fontweight='bold') #제목은 Age distribution으로 굵게\r\n",
    "plt.show()"
   ],
   "outputs": [],
   "metadata": {}
  },
  {
   "cell_type": "code",
   "execution_count": null,
   "source": [
    "# seaborn kdeplot으로 선그래프 분포도 그리기\r\n",
    "sns.kdeplot(data=train, x='age')"
   ],
   "outputs": [],
   "metadata": {}
  },
  {
   "cell_type": "code",
   "execution_count": null,
   "source": [
    "# income 변수 범주형 값 확인\r\n",
    "train['income']"
   ],
   "outputs": [],
   "metadata": {}
  },
  {
   "cell_type": "code",
   "execution_count": null,
   "source": [
    "# imcome 값을 1, 0으로 변환\r\n",
    "train['income'] = (train['income'] == '>50K').astype(int)\r\n",
    "train['income'].value_counts()"
   ],
   "outputs": [],
   "metadata": {}
  },
  {
   "cell_type": "code",
   "execution_count": null,
   "source": [
    "# race, sex 별로 평균 값 구하기\r\n",
    "train.groupby(['race','sex']).mean()"
   ],
   "outputs": [],
   "metadata": {}
  },
  {
   "cell_type": "code",
   "execution_count": null,
   "source": [
    "# race, sex 별로 imcome 평균 값 구하기\r\n",
    "train.groupby(['race','sex'])[['income']].mean().style.background_gradient(cmap='Purples') # 값이 높을수록 purples에 가깝게 배경색 칠하기"
   ],
   "outputs": [],
   "metadata": {}
  },
  {
   "cell_type": "code",
   "execution_count": null,
   "source": [
    "pd.pivot_table(train, \r\n",
    "               columns='sex', \r\n",
    "               index='race', \r\n",
    "               values='income', \r\n",
    "               aggfunc='sum')"
   ],
   "outputs": [],
   "metadata": {}
  },
  {
   "cell_type": "code",
   "execution_count": null,
   "source": [
    "# 데이터 분포 확인\r\n",
    "sns.boxplot(data=train, x='race', y='age', hue='sex')\r\n",
    "#swarmplot(data=train, x='race', y='age')"
   ],
   "outputs": [],
   "metadata": {}
  },
  {
   "cell_type": "code",
   "execution_count": null,
   "source": [
    "sns.violinplot(data=train, x='race', y='age')"
   ],
   "outputs": [],
   "metadata": {}
  },
  {
   "cell_type": "code",
   "execution_count": null,
   "source": [
    "# pearson correlation\r\n",
    "corr = train.corr()"
   ],
   "outputs": [],
   "metadata": {}
  },
  {
   "cell_type": "code",
   "execution_count": null,
   "source": [
    "# corr 시각화(heatmap)\r\n",
    "train.corr().style.background_gradient(cmap='coolwarm')"
   ],
   "outputs": [],
   "metadata": {}
  },
  {
   "cell_type": "code",
   "execution_count": null,
   "source": [
    "# corr 시각화(heatmap)\r\n",
    "sns.heatmap(corr, square=True, linecolor='white', linewidth=0.1, cmap='coolwarm', vmax=1.0, vmin=-1.0) #pearson 상관계수 값을 정사각형 heatmap으로 테두리 0.1 흰색, 최대값 1, 최소값 -1, 크면 빨간색, 작으면 파란색으로 그래프 그리기"
   ],
   "outputs": [],
   "metadata": {}
  },
  {
   "cell_type": "markdown",
   "source": [
    "다음과 같이 custom 할 수도 있습니다.\r\n",
    "\r\n",
    "eda의 핵심은 본인, 그리고 타인의 가독성을 생각하며 작성하는 것입니다.\r\n",
    "\r\n",
    "여백, 축, 공간, 텍스트 등의 내용을 활용하시면 됩니다.\r\n",
    "\r\n",
    "더 깔끔하고\r\n",
    "\r\n",
    "더 많은 내용을 담고\r\n",
    "\r\n",
    "더 좋은 인사이트를 담는\r\n",
    "\r\n",
    "EDA 노트북을 만들어 보는 것부터 여러분의 데이터 분석은 시작입니다."
   ],
   "metadata": {}
  },
  {
   "cell_type": "markdown",
   "source": [
    "#### b) 제출\r\n",
    "- 분석 후에 저장한 code 들어가기 -> Output에 Submit 클릭 -> notebook, version, 파일 설정 후 제출\r\n",
    "- 제출 후 view my submission 클릭하면 score와 순위 확인 가능\r\n",
    "- 팀별 제출 횟수가 정해져있음(개인이 하다가 나중에 합쳐서 하는게 좋음)\r\n",
    "- inclass 대회에서는 메달X"
   ],
   "metadata": {}
  },
  {
   "cell_type": "markdown",
   "source": [
    "#### c) 당신에게 캐글이란\r\n",
    "- Competition만이 답이 아니다. 어느 하나에 집중해서 해라"
   ],
   "metadata": {}
  },
  {
   "cell_type": "markdown",
   "source": [],
   "metadata": {}
  }
 ],
 "metadata": {
  "orig_nbformat": 4,
  "language_info": {
   "name": "python"
  }
 },
 "nbformat": 4,
 "nbformat_minor": 2
}