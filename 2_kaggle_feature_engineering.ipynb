{
 "cells": [
  {
   "cell_type": "markdown",
   "source": [
    "# 2. Feature Engineering\r\n",
    "\r\n",
    "## Index\r\n",
    "### 1) Data\r\n",
    "### 2) head, info, dtype, describe, loc, map, apply\r\n",
    "### 3) Data Preprocessing\r\n",
    "### 4) 결측치, 이상치, 스케일링\r\n",
    "### 5) Encoding, Feature Selection & Extraction\r\n",
    "### 6) One Hot Enconding, PCA"
   ],
   "metadata": {}
  },
  {
   "cell_type": "markdown",
   "source": [
    "## 1) Data\r\n",
    "- 통계분석, 머신러닝의 목적 : 흥미와 관심사를 빅데이터로 수집하여 높은 조회수를 기록할만한 결과를 도출\r\n",
    "    - 하기 어려운 이유 : 데이터가 많지만 분석을 할만한 데이터가 없음(Null값도 많고, 의미있는 데이터가 아닌 경우도 많음)\r\n",
    "- 70%이상의 시간은 데이터 전처리에 많은 시간을 투자, 이유는?\r\n",
    "    - 데이터 수집 처리기가 불안정, 기계 자체가 되지 않음\r\n",
    "    - 데이터를 쌓을 때 인프라 구축이 제대로 안되어 있는 경우\r\n",
    "    - 데이터 수집, 저장에 돈이 들음\r\n",
    "    - 데이터의 형태가 많음\r\n",
    "- Data science lifecycle\r\n",
    "    - Business understanding -> Data mining -> Data cleaning -> Data exploration -> Feature engineering -> Predictive modeling -> Data visualization\r\n",
    "- Data란\r\n",
    "    - 데이터 형태 : 정형 데이터, 비정형 데이터\r\n",
    "    - 데이터(변수) : 수치형, 범주형\r\n",
    "- 데이터가 어떤 구조로 이루어져있는지, 변형시에 어떤 변화가 생기는지, 실제로 원하는 결과였는지 알아보는 내용\r\n",
    "\r\n",
    "????csv파일 불러오면 Ram의 용량이 늘어나는 이유????"
   ],
   "metadata": {}
  },
  {
   "cell_type": "markdown",
   "source": [
    "## 2) head, info, dtype, describe, loc, map, apply\r\n",
    "- Kaggle 홈페이지 -> [T-Academy X KaKr] 성인 인구조사 소득 예측 대회 -> Code -> Feature Engineering"
   ],
   "metadata": {}
  },
  {
   "cell_type": "code",
   "execution_count": null,
   "source": [
    "#!pip install pycaret"
   ],
   "outputs": [],
   "metadata": {}
  },
  {
   "cell_type": "markdown",
   "source": [
    "- pycaret\r\n",
    "    - 기계 학습 워크 플로를 자동화하는 Python 의 오픈 소스 저 코드 기계 학습 라이브러리\r\n",
    "    - 머신 러닝 실험주기를 가속화하고 생산성을 10 배 향상시키는 엔드 투 엔드 머신 러닝 및 모델 관리 도구"
   ],
   "metadata": {}
  }
 ],
 "metadata": {
  "orig_nbformat": 4,
  "language_info": {
   "name": "python"
  }
 },
 "nbformat": 4,
 "nbformat_minor": 2
}